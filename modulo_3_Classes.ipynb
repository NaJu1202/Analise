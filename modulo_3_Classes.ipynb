{
 "cells": [
  {
   "cell_type": "code",
   "execution_count": 1,
   "metadata": {},
   "outputs": [],
   "source": [
    "class Carro(object):\n",
    "    cor = \"Branco\"\n",
    "    def __init__(self, quilometragem, velocidade_max):\n",
    "        self.quilometragem = quilometragem\n",
    "        self.velocidade_max  = velocidade_max\n",
    "        \n",
    "    def capacidade_assentos(self, assentos):\n",
    "        self.assentos = assentos\n",
    "        \n",
    "    def display_propriedades(self):\n",
    "        print(\"Propriedades do carro:\")\n",
    "        print('Cor: ', self.cor)\n",
    "        print(f'Velocidade Maxima: {self.velocidade_max}km/h')\n",
    "        print(f'Quilometragem: {self.quilometragem}km/L')\n",
    "        print('Número de asentos: ',self.assentos)"
   ]
  },
  {
   "cell_type": "code",
   "execution_count": 2,
   "metadata": {},
   "outputs": [
    {
     "name": "stdout",
     "output_type": "stream",
     "text": [
      "Propriedades do carro:\n",
      "Cor:  Branco\n",
      "Velocidade Maxima: 200km/h\n",
      "Quilometragem: 50000km/L\n",
      "Número de asentos:  5\n",
      "\n",
      "Propriedades do carro:\n",
      "Cor:  Branco\n",
      "Velocidade Maxima: 18km/h\n",
      "Quilometragem: 75000km/L\n",
      "Número de asentos:  4\n"
     ]
    }
   ],
   "source": [
    "carro1 = Carro(50000, 200)\n",
    "carro1.capacidade_assentos(5)\n",
    "carro1.display_propriedades()\n",
    "print()\n",
    "carro2 = Carro(75000, 18)\n",
    "carro2.capacidade_assentos(4)\n",
    "carro2.display_propriedades()"
   ]
  },
  {
   "cell_type": "code",
   "execution_count": 4,
   "metadata": {},
   "outputs": [
    {
     "name": "stdout",
     "output_type": "stream",
     "text": [
      "texto formatado:  lorem ipsum dolor diam amet consetetur lorem magna sed diam nonumy eirmod tempor diam et labore et diam magna et diam amet\n",
      "{'consetetur': 1, 'lorem': 2, 'dolor': 1, 'magna': 2, 'eirmod': 1, 'et': 3, 'amet': 2, 'tempor': 1, 'diam': 5, 'nonumy': 1, 'sed': 1, 'labore': 1, 'ipsum': 1}\n",
      "2\n"
     ]
    }
   ],
   "source": [
    "givenstring=\"Lorem ipsum dolor! diam amet, consetetur Lorem magna. sed diam nonumy eirmod tempor. diam et labore? et diam magna. et diam amet.\"\n",
    "\n",
    "\n",
    "# type your code here\n",
    "class TextAnalyzer(object):\n",
    "    \n",
    "    def __init__ (self, text):\n",
    "        # remove punctuation\n",
    "        texto_formatado = text.replace('.','').replace(',','').replace('?','').replace('!','')\n",
    "        # make text lowercase\n",
    "        self.fmtText = texto_formatado.lower()\n",
    "        \n",
    "    def freqAll(self):        \n",
    "        # split text into words\n",
    "        listaGeral = self.fmtText.split(\" \")\n",
    "        # Create dictionary\n",
    "        mapeamento_frequencia = {}\n",
    "        for palavra in set(listaGeral):\n",
    "            mapeamento_frequencia[palavra] = listaGeral.count(palavra)\n",
    "        return mapeamento_frequencia\n",
    "           \n",
    "    def freqOf(self,palavra):\n",
    "        # get frequency map\n",
    "        frequencia = self.freqAll()\n",
    "        if palavra in frequencia:\n",
    "            return frequencia.get(palavra,0)\n",
    "        else:\n",
    "            return 0\n",
    "\n",
    "texto = TextAnalyzer(givenstring)\n",
    "print(\"texto formatado: \", texto.fmtText)\n",
    "\n",
    "mapeamento_frequencia = texto.freqAll()\n",
    "print(mapeamento_frequencia)\n",
    "\n",
    "palavra = 'lorem'\n",
    "frequencia = texto.freqOf(palavra)\n",
    "print(frequencia)\n"
   ]
  },
  {
   "cell_type": "code",
   "execution_count": 6,
   "metadata": {},
   "outputs": [
    {
     "name": "stdout",
     "output_type": "stream",
     "text": [
      "x= 1  y= 2\n"
     ]
    }
   ],
   "source": [
    "class Points(object): \n",
    "    def __init__(self, x, y): \n",
    "        self.x = x \n",
    "        self.y = y \n",
    "    def print_point(self): \n",
    "        print('x=', self.x, ' y=', self.y) \n",
    "\n",
    "\n",
    "p1 = Points(1, 2) \n",
    "p1.print_point()"
   ]
  },
  {
   "cell_type": "code",
   "execution_count": 7,
   "metadata": {},
   "outputs": [
    {
     "name": "stdout",
     "output_type": "stream",
     "text": [
      "0 AA\n",
      "1 BB\n",
      "2 CC\n"
     ]
    }
   ],
   "source": [
    "for i, x in enumerate(['A', 'B', 'C']): \n",
    "    print(i, 2 * x)"
   ]
  },
  {
   "cell_type": "code",
   "execution_count": 9,
   "metadata": {},
   "outputs": [
    {
     "name": "stdout",
     "output_type": "stream",
     "text": [
      "101\n"
     ]
    }
   ],
   "source": [
    " a = 1 \n",
    "def do(x): \n",
    "    a = 100 \n",
    "    return x + a \n",
    "\n",
    "\n",
    "print(do(1))"
   ]
  }
 ],
 "metadata": {
  "kernelspec": {
   "display_name": "base",
   "language": "python",
   "name": "python3"
  },
  "language_info": {
   "codemirror_mode": {
    "name": "ipython",
    "version": 3
   },
   "file_extension": ".py",
   "mimetype": "text/x-python",
   "name": "python",
   "nbconvert_exporter": "python",
   "pygments_lexer": "ipython3",
   "version": "3.12.4"
  }
 },
 "nbformat": 4,
 "nbformat_minor": 2
}
